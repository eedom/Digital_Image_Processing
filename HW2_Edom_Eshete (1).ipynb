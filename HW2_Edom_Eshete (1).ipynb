{
 "cells": [
  {
   "cell_type": "markdown",
   "id": "e1e6e2fc",
   "metadata": {},
   "source": [
    "## Preamble\n",
    "\n",
    "Title: Filter- Homework-2\n",
    "\n",
    "Author: Edom Eshete\n",
    "\n",
    "Email: eeshete@msudenver.edu\n",
    "\n",
    "Last Update: 10/8/2021"
   ]
  },
  {
   "cell_type": "markdown",
   "id": "abbe8a59",
   "metadata": {},
   "source": [
    "# Goal\n",
    "\n",
    "For this assignment we are expected to apply different filter of our own image. We are allowed to choose any kernel size and center type.\n"
   ]
  },
  {
   "cell_type": "markdown",
   "id": "91f0ee44",
   "metadata": {},
   "source": [
    "# Process"
   ]
  },
  {
   "cell_type": "markdown",
   "id": "b6c2ab3c",
   "metadata": {},
   "source": [
    "### Part One\n",
    "\n",
    "\n",
    "1. First step is to import all the necessary packages "
   ]
  },
  {
   "cell_type": "code",
   "execution_count": 1,
   "id": "5bb665f8",
   "metadata": {},
   "outputs": [],
   "source": [
    "import os\n",
    "os.sys.path\n",
    "import numpy as np\n",
    "import cv2\n",
    "import math\n",
    "import random\n",
    "from matplotlib import pyplot as plt\n",
    "from scipy.signal import convolve2d"
   ]
  },
  {
   "cell_type": "markdown",
   "id": "e345e966",
   "metadata": {},
   "source": [
    "2. Read in an image of myslef and display before i apply any filter "
   ]
  },
  {
   "cell_type": "code",
   "execution_count": null,
   "id": "235b502e",
   "metadata": {},
   "outputs": [],
   "source": [
    "im = cv2.imread(r'C:/Users/edi_8/DigitalImageProcess/HW1/self_pic.jpg')\n",
    "plt.title('Original')\n",
    "plt.imshow(im[...,::-1])"
   ]
  },
  {
   "cell_type": "markdown",
   "id": "4d681d3f",
   "metadata": {},
   "source": [
    "3. Change the image to grayscale"
   ]
  },
  {
   "cell_type": "code",
   "execution_count": null,
   "id": "2d803149",
   "metadata": {},
   "outputs": [],
   "source": [
    "img = cv2.cvtColor(im, cv2.COLOR_BGR2GRAY)\n",
    "plt.figure()\n",
    "plt.imshow(img, cmap='gray', vmin=0, vmax=255)"
   ]
  },
  {
   "cell_type": "markdown",
   "id": "be7af972",
   "metadata": {},
   "source": [
    "### average filter\n",
    "\n",
    "4. The steps was to reduce the noise that is formed by additional of noise to my image. This is done by adding a set of noisy images, {g,(x,y)} or determing the average of the pixel values within a n X n kernel. It remove some of the noise , some detail has been lost.   "
   ]
  },
  {
   "cell_type": "code",
   "execution_count": null,
   "id": "2c6099af",
   "metadata": {},
   "outputs": [],
   "source": [
    "box = np.array(\n",
    "    [[0.04, 0.04, 0.04, 0.04, 0.04],\n",
    "     [0.04, 0.04, 0.04, 0.04, 0.04],\n",
    "     [0.04, 0.04, 0.04, 0.04, 0.04],\n",
    "     [0.04, 0.04, 0.04, 0.04, 0.04],\n",
    "     [0.04, 0.04, 0.04, 0.04, 0.04]])\n",
    "box2 = np.array(\n",
    "    [[1/9,1/9,1/9],\n",
    "     [1/9,1/9,1/9],\n",
    "     [1/9,1/9,1/9]])\n",
    "\n",
    "average = cv2.filter2D(img,-1,box2)\n",
    "plt.figure()\n",
    "plt.imshow(average,cmap='gray', vmin=0, vmax=255)\n",
    "plt.show()"
   ]
  },
  {
   "cell_type": "markdown",
   "id": "fa6ad8eb",
   "metadata": {},
   "source": [
    "#### Sober filter\n",
    "\n",
    "5. I have applied the Sobel by detecting the edge. Applying the filter to vertical and horzontal will help to distinguish  the differnce. The filter is more effective on the horizonatl then the vertical. Additionally, it was more suitable when applying on the maximum edge by adding the vertical and horizonatl filterd image togther. "
   ]
  },
  {
   "cell_type": "code",
   "execution_count": null,
   "id": "654d0922",
   "metadata": {},
   "outputs": [],
   "source": [
    "sobel_vert = np.array([\n",
    "    [-1.0, 0.0, 1.0]\n",
    "    , [-2.0, 0.0, 2.0]\n",
    "    , [-1.0, 0.0, 1.0]\n",
    "])\n",
    "sobel_horiz = sobel_vert.T\n",
    "\n",
    "dst_vert = cv2.filter2D(img, -1, sobel_vert)\n",
    "dst_horiz = cv2.filter2D(img, -1, sobel_horiz)\n",
    "plt.figure()\n",
    "plt.title('Vert_by opencv')\n",
    "plt.imshow(dst_vert, cmap='gray', vmin=0, vmax=255)\n",
    "plt.figure()\n",
    "plt.title('Horiz_ by opencv')\n",
    "plt.imshow(dst_horiz, cmap='gray', vmin=0, vmax=255)\n",
    "\n",
    "\n",
    "grad3 = np.maximum(dst_vert, dst_horiz)\n",
    "plt.figure()\n",
    "plt.title('Max Edge by opencv')\n",
    "plt.imshow(grad3, cmap='gray', vmin=0, vmax=255)\n",
    "plt.show()"
   ]
  },
  {
   "cell_type": "markdown",
   "id": "b908ef17",
   "metadata": {},
   "source": [
    "### Laplacian filter \n",
    "\n",
    "6. For this image i was expecting more effects on Laplacian filter since it uses only one kernel which helps the image to have better result. However, when i compare the resutlt with Sobel filter the Laplacian filter was less effective. "
   ]
  },
  {
   "cell_type": "code",
   "execution_count": null,
   "id": "3183c17d",
   "metadata": {},
   "outputs": [],
   "source": [
    "l_kern = np.array([  \n",
    "    [0.0,  1.0, 0.0]    \n",
    "    ,[1.0, -4.0, 1.0]   \n",
    "    ,[0.0,  1.0, 0.0]   \n",
    "])\n",
    "#// alternate form uses diagonals \n",
    "l_kern2 = np.array([ \n",
    "    [1.0,  1.0, 1.0]   \n",
    "    ,[1.0, -8.0, 1.0] \n",
    "    ,[1.0,  1.0, 1.0]  \n",
    "])\n",
    "Edge_l = cv2.filter2D(img, -1, l_kern2)\n",
    "plt.figure()\n",
    "plt.title('Laplacian Edge')\n",
    "plt.imshow(Edge_l,cmap='gray', vmin=0, vmax=255) \n"
   ]
  },
  {
   "cell_type": "markdown",
   "id": "b285dd0d",
   "metadata": {},
   "source": [
    "### Median filter\n",
    "\n",
    "7.  Median filter replace the pixel intensity  of the center pixle. The result was better than averging filter it keeps the edges of an image. "
   ]
  },
  {
   "cell_type": "code",
   "execution_count": null,
   "id": "fc8a8045",
   "metadata": {},
   "outputs": [],
   "source": [
    "4  # also check    cv.medianBlur(src, dst, 5);\n",
    "height,width = np.shape(img)\n",
    "median = np.zeros((height,width),dtype=float)\n",
    "for i in range(1,height-2):  \n",
    "    for j in range(1,width-2):  \n",
    "        sorted_pixels = sorted(np.ndarray.flatten(img[i-1:i+2,j-1:j+2]))\n",
    "        median[i][j] = sorted_pixels[4] \n",
    "        \n",
    "plt.figure()\n",
    "plt.title('median filter')\n",
    "plt.imshow(median,cmap='gray', vmin=0, vmax=255) "
   ]
  },
  {
   "cell_type": "markdown",
   "id": "b7c7ca25",
   "metadata": {},
   "source": [
    "## Gaussian blur\n",
    "\n",
    "8. For this filter it was not as blury as i expected it would be however,i see a little change. "
   ]
  },
  {
   "cell_type": "code",
   "execution_count": null,
   "id": "7c06812a",
   "metadata": {},
   "outputs": [],
   "source": [
    "G_ker=np.array([\n",
    "       [ 4,  6,  8,  9, 11],\n",
    "       [10, 12, 14, 15, 17],\n",
    "       [20, 22, 24, 25, 27],\n",
    "       [29, 31, 33, 34, 36],\n",
    "       [35, 37, 39, 40, 42]])\n",
    "G_ker =G_ker/np.sum(G_ker)\n",
    "Gaussian = cv2.filter2D(img, -1, G_ker) \n",
    "plt.figure()\n",
    "plt.title('Gaussian Blur')\n",
    "plt.imshow(Gaussian,cmap='gray', vmin=0, vmax=255) \n",
    "\n",
    "G_ker2=np.array([\n",
    "       [ 2, 7, 12, 7, 2],\n",
    "       [7, 31, 52, 31, 7],\n",
    "       [12, 52, 157, 52, 12],\n",
    "       [7, 31, 52, 31, 7],\n",
    "       [ 2, 7, 12, 7, 2]])\n",
    "\n",
    "G_ker2 =G_ker2/np.sum(G_ker2)\n",
    "Gaussian2 = cv2.filter2D(img, -1, G_ker2) \n",
    "plt.figure()\n",
    "plt.title('New Filtered image ')\n",
    "plt.imshow(Gaussian2,cmap='gray', vmin=0, vmax=255)"
   ]
  },
  {
   "cell_type": "markdown",
   "id": "3aaa29b5",
   "metadata": {},
   "source": [
    "## Part Two\n",
    "\n",
    "### Unsharp Filter\n",
    "\n",
    "This filter is used to enhance the edges of an image so on our result some of the noise was enhanced."
   ]
  },
  {
   "cell_type": "code",
   "execution_count": null,
   "id": "dfdd07f4",
   "metadata": {},
   "outputs": [],
   "source": [
    "from PIL import Image, ImageFilter\n",
    "\n",
    "image = Image.fromarray(img.astype('uint8'))\n",
    "new_image = image.filter(ImageFilter.UnsharpMask(radius=2, percent=150))\n",
    "plt.subplot(121),plt.imshow(image, cmap = 'gray')\n",
    "plt.title('Input Image'), plt.xticks([]), plt.yticks([])\n",
    "plt.subplot(122),plt.imshow(new_image, cmap = 'gray')\n",
    "plt.title('Unsharp Filter'), plt.xticks([]), plt.yticks([])\n",
    "plt.show()"
   ]
  },
  {
   "cell_type": "markdown",
   "id": "a0a5c4c6",
   "metadata": {},
   "source": [
    "\n",
    "\n"
   ]
  },
  {
   "cell_type": "code",
   "execution_count": null,
   "id": "f4861d45",
   "metadata": {},
   "outputs": [],
   "source": []
  },
  {
   "cell_type": "markdown",
   "id": "2f6d64da",
   "metadata": {},
   "source": []
  },
  {
   "cell_type": "code",
   "execution_count": null,
   "id": "18cad60e",
   "metadata": {},
   "outputs": [],
   "source": []
  }
 ],
 "metadata": {
  "kernelspec": {
   "display_name": "Python 3",
   "language": "python",
   "name": "python3"
  },
  "language_info": {
   "codemirror_mode": {
    "name": "ipython",
    "version": 3
   },
   "file_extension": ".py",
   "mimetype": "text/x-python",
   "name": "python",
   "nbconvert_exporter": "python",
   "pygments_lexer": "ipython3",
   "version": "3.8.8"
  }
 },
 "nbformat": 4,
 "nbformat_minor": 5
}
